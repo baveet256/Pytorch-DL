{
  "nbformat": 4,
  "nbformat_minor": 0,
  "metadata": {
    "colab": {
      "provenance": [],
      "collapsed_sections": [],
      "authorship_tag": "ABX9TyNuOZBpizyHi4f1g/vUDPd/",
      "include_colab_link": true
    },
    "kernelspec": {
      "name": "python3",
      "display_name": "Python 3"
    },
    "language_info": {
      "name": "python"
    },
    "accelerator": "GPU"
  },
  "cells": [
    {
      "cell_type": "markdown",
      "metadata": {
        "id": "view-in-github",
        "colab_type": "text"
      },
      "source": [
        "<a href=\"https://colab.research.google.com/github/baveet256/Pytorch-DL/blob/main/Pytorch3.ipynb\" target=\"_parent\"><img src=\"https://colab.research.google.com/assets/colab-badge.svg\" alt=\"Open In Colab\"/></a>"
      ]
    },
    {
      "cell_type": "code",
      "execution_count": 1,
      "metadata": {
        "id": "KAFKG2k0V9ZV"
      },
      "outputs": [],
      "source": [
        "import torch\n",
        "import matplotlib.pyplot as plt"
      ]
    },
    {
      "cell_type": "code",
      "source": [
        "import numpy as np"
      ],
      "metadata": {
        "id": "yrl8OsrdrjNo"
      },
      "execution_count": 5,
      "outputs": []
    },
    {
      "cell_type": "code",
      "source": [
        "m = 0.3\n",
        "b = 0.9\n",
        "X = torch.arange(0,1,0.01)\n",
        "y = m * X + b"
      ],
      "metadata": {
        "id": "wtbNnCzFrCtJ"
      },
      "execution_count": 139,
      "outputs": []
    },
    {
      "cell_type": "code",
      "source": [
        "type(X)"
      ],
      "metadata": {
        "colab": {
          "base_uri": "https://localhost:8080/"
        },
        "id": "Hu6DuSdwvO6g",
        "outputId": "3fc335ad-852b-49e3-d995-52bc13a33a88"
      },
      "execution_count": 140,
      "outputs": [
        {
          "output_type": "execute_result",
          "data": {
            "text/plain": [
              "torch.Tensor"
            ]
          },
          "metadata": {},
          "execution_count": 140
        }
      ]
    },
    {
      "cell_type": "code",
      "source": [],
      "metadata": {
        "colab": {
          "base_uri": "https://localhost:8080/"
        },
        "id": "G4JPZs97uxrI",
        "outputId": "109e0d0c-6054-44c4-93cd-ae627c7f0a48"
      },
      "execution_count": 34,
      "outputs": [
        {
          "output_type": "execute_result",
          "data": {
            "text/plain": [
              "torch.Tensor"
            ]
          },
          "metadata": {},
          "execution_count": 34
        }
      ]
    },
    {
      "cell_type": "code",
      "source": [
        "X[:5], y[:5]"
      ],
      "metadata": {
        "colab": {
          "base_uri": "https://localhost:8080/"
        },
        "id": "rcG97R8lrSsB",
        "outputId": "b4fa7fd0-d176-4b94-b1e2-132c4976b477"
      },
      "execution_count": 141,
      "outputs": [
        {
          "output_type": "execute_result",
          "data": {
            "text/plain": [
              "(tensor([0.0000, 0.0100, 0.0200, 0.0300, 0.0400]),\n",
              " tensor([0.9000, 0.9030, 0.9060, 0.9090, 0.9120]))"
            ]
          },
          "metadata": {},
          "execution_count": 141
        }
      ]
    },
    {
      "cell_type": "code",
      "source": [
        "# from sklearn.model_selection import train_test_split,\n",
        "# x_train,x_test,y_train,y_test = train_test_split(X,y,test_size=0.2)\n",
        "\n",
        "#as keras randomizes the data, due to which we got increased loss values than expected\n",
        "t = int(0.8*len(X))\n",
        "x_train,y_train = X[:t],y[:t]\n",
        "x_test,y_test = X[t:],y[t:]"
      ],
      "metadata": {
        "id": "85CJooarrrwZ"
      },
      "execution_count": 142,
      "outputs": []
    },
    {
      "cell_type": "code",
      "source": [
        "plt.figure(figsize=(10,15))\n",
        "plt.scatter(x_test,y_test)\n",
        "plt.show()"
      ],
      "metadata": {
        "colab": {
          "base_uri": "https://localhost:8080/",
          "height": 863
        },
        "id": "cAXTw90IsMtw",
        "outputId": "33348646-f394-4f1b-a3a0-e1b0ebf96f8f"
      },
      "execution_count": 143,
      "outputs": [
        {
          "output_type": "display_data",
          "data": {
            "text/plain": [
              "<Figure size 720x1080 with 1 Axes>"
            ],
            "image/png": "[encoded data removed]"
          },
          "metadata": {
            "needs_background": "light"
          }
        }
      ]
    },
    {
      "cell_type": "code",
      "source": [
        "from torch import nn"
      ],
      "metadata": {
        "id": "KT-woXFWt_XQ"
      },
      "execution_count": 39,
      "outputs": []
    },
    {
      "cell_type": "code",
      "source": [
        "x_train.shape"
      ],
      "metadata": {
        "colab": {
          "base_uri": "https://localhost:8080/"
        },
        "id": "JLuBbZAL6R4r",
        "outputId": "4080fea2-405b-490c-c4f6-886fd8e32a40"
      },
      "execution_count": 134,
      "outputs": [
        {
          "output_type": "execute_result",
          "data": {
            "text/plain": [
              "torch.Size([160])"
            ]
          },
          "metadata": {},
          "execution_count": 134
        }
      ]
    },
    {
      "cell_type": "code",
      "source": [
        "class Linemodel(nn.Module):\n",
        "  def __init__(self):\n",
        "    super().__init__()\n",
        "    self.weight = nn.Parameter(torch.randn(1,requires_grad=True,dtype = torch.float))\n",
        "    self.bias = nn.Parameter(torch.randn(1,requires_grad=True,dtype = torch.float))\n",
        "  def forward(self,x:torch.tensor):\n",
        "    return self.weight * x.T + self.bias\n"
      ],
      "metadata": {
        "id": "km2R85GjsTS1"
      },
      "execution_count": 144,
      "outputs": []
    },
    {
      "cell_type": "code",
      "source": [
        "torch.manual_seed(42)\n",
        "model = Linemodel()\n",
        "model.state_dict()"
      ],
      "metadata": {
        "colab": {
          "base_uri": "https://localhost:8080/"
        },
        "id": "Ab5tXVRtwzZy",
        "outputId": "dda310f2-79e6-4a6e-b68e-8be78b62351d"
      },
      "execution_count": 145,
      "outputs": [
        {
          "output_type": "execute_result",
          "data": {
            "text/plain": [
              "OrderedDict([('weight', tensor([0.3367])), ('bias', tensor([0.1288]))])"
            ]
          },
          "metadata": {},
          "execution_count": 145
        }
      ]
    },
    {
      "cell_type": "code",
      "source": [
        "#training the model"
      ],
      "metadata": {
        "id": "rXrQB4emxLgO"
      },
      "execution_count": 45,
      "outputs": []
    },
    {
      "cell_type": "code",
      "source": [
        "model.parameters()"
      ],
      "metadata": {
        "colab": {
          "base_uri": "https://localhost:8080/"
        },
        "id": "k7aT-5fv1boi",
        "outputId": "82548d92-aea0-4095-aab5-94a4ef9667c7"
      },
      "execution_count": 61,
      "outputs": [
        {
          "output_type": "execute_result",
          "data": {
            "text/plain": [
              "<generator object Module.parameters at 0x7f8f4ce3b3d0>"
            ]
          },
          "metadata": {},
          "execution_count": 61
        }
      ]
    },
    {
      "cell_type": "code",
      "source": [
        "floss = nn.L1Loss()\n",
        "optimizer = torch.optim.SGD(params=model.parameters(),lr = 0.01)\n"
      ],
      "metadata": {
        "id": "7NSDqP6KxUk_"
      },
      "execution_count": 146,
      "outputs": []
    },
    {
      "cell_type": "code",
      "source": [
        "#loops\n",
        "\n",
        "torch.manual_seed(42)\n",
        "\n",
        "epochs = 300\n",
        "for epoch in range(epochs):\n",
        "  model.train()\n",
        "  y_pred = model(x_train)\n",
        "  loss = floss(y_pred,y_train)\n",
        "  optimizer.zero_grad()\n",
        "  loss.backward()\n",
        "  optimizer.step()\n",
        "  #test\n",
        "  if epoch % 20 == 0:  \n",
        "    model.eval()\n",
        "    with torch.inference_mode():\n",
        "      y_test_pred = model(x_test)\n",
        "      test_loss  = floss(y_test_pred,y_test) \n",
        "      print(f\"epoch:{epoch} | loss:{loss} | test_loss:{test_loss}\")  \n"
      ],
      "metadata": {
        "colab": {
          "base_uri": "https://localhost:8080/"
        },
        "id": "pdgnJMl9yCYq",
        "outputId": "a34d005d-a662-4969-8bb1-8788248aa99f"
      },
      "execution_count": 147,
      "outputs": [
        {
          "output_type": "stream",
          "name": "stdout",
          "text": [
            "epoch:0 | loss:0.7566978335380554 | test_loss:0.7248174548149109\n",
            "epoch:20 | loss:0.5254928469657898 | test_loss:0.4541124403476715\n",
            "epoch:40 | loss:0.2942880392074585 | test_loss:0.18340764939785004\n",
            "epoch:60 | loss:0.07658576965332031 | test_loss:0.07274086028337479\n",
            "epoch:80 | loss:0.05255373567342758 | test_loss:0.11581540107727051\n",
            "epoch:100 | loss:0.045542728155851364 | test_loss:0.10467890650033951\n",
            "epoch:120 | loss:0.03868866711854935 | test_loss:0.08938358724117279\n",
            "epoch:140 | loss:0.03183453157544136 | test_loss:0.07408786565065384\n",
            "epoch:160 | loss:0.024982359260320663 | test_loss:0.0581042543053627\n",
            "epoch:180 | loss:0.018130185082554817 | test_loss:0.04212062805891037\n",
            "epoch:200 | loss:0.011278990656137466 | test_loss:0.02579306997358799\n",
            "epoch:220 | loss:0.004429381340742111 | test_loss:0.009467745199799538\n",
            "epoch:240 | loss:0.00370177929289639 | test_loss:0.006489443592727184\n",
            "epoch:260 | loss:0.00370177929289639 | test_loss:0.006489443592727184\n",
            "epoch:280 | loss:0.00370177929289639 | test_loss:0.006489443592727184\n"
          ]
        }
      ]
    },
    {
      "cell_type": "code",
      "source": [
        "y_test[:5],y_pred[:5]"
      ],
      "metadata": {
        "colab": {
          "base_uri": "https://localhost:8080/"
        },
        "id": "kR9OgCp1y7-4",
        "outputId": "6a934e0a-bc38-4837-ffd2-522a8f9a881a"
      },
      "execution_count": 148,
      "outputs": [
        {
          "output_type": "execute_result",
          "data": {
            "text/plain": [
              "(tensor([1.1400, 1.1430, 1.1460, 1.1490, 1.1520]),\n",
              " tensor([0.8911, 0.8941, 0.8971, 0.9001, 0.9032], grad_fn=<SliceBackward0>))"
            ]
          },
          "metadata": {},
          "execution_count": 148
        }
      ]
    },
    {
      "cell_type": "code",
      "source": [],
      "metadata": {
        "id": "VuWw51Cg4RYZ"
      },
      "execution_count": null,
      "outputs": []
    }
  ]
}