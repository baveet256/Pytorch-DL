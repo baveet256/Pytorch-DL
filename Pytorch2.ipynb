{
  "nbformat": 4,
  "nbformat_minor": 0,
  "metadata": {
    "colab": {
      "provenance": [],
      "collapsed_sections": [],
      "authorship_tag": "ABX9TyOeiXAL3JtNtodEMvQIac9A",
      "include_colab_link": true
    },
    "kernelspec": {
      "name": "python3",
      "display_name": "Python 3"
    },
    "language_info": {
      "name": "python"
    }
  },
  "cells": [
    {
      "cell_type": "markdown",
      "metadata": {
        "id": "view-in-github",
        "colab_type": "text"
      },
      "source": [
        "<a href=\"https://colab.research.google.com/github/baveet256/Pytorch-DL/blob/main/Pytorch2.ipynb\" target=\"_parent\"><img src=\"https://colab.research.google.com/assets/colab-badge.svg\" alt=\"Open In Colab\"/></a>"
      ]
    },
    {
      "cell_type": "code",
      "execution_count": null,
      "metadata": {
        "colab": {
          "base_uri": "https://localhost:8080/",
          "height": 35
        },
        "id": "Du96wLKwdxUD",
        "outputId": "9e8e45e3-86ea-4ece-8e41-fa5bfb03b950"
      },
      "outputs": [
        {
          "output_type": "execute_result",
          "data": {
            "text/plain": [
              "'1.12.1+cu113'"
            ],
            "application/vnd.google.colaboratory.intrinsic+json": {
              "type": "string"
            }
          },
          "metadata": {},
          "execution_count": 1
        }
      ],
      "source": [
        "import torch\n",
        "from torch import nn\n",
        "import matplotlib.pyplot as plt\n",
        "torch.__version__"
      ]
    },
    {
      "cell_type": "code",
      "source": [
        "m = 0.7\n",
        "b = 0.3\n",
        "x = torch.arange(0,1,0.02)\n",
        "print(x.shape)"
      ],
      "metadata": {
        "colab": {
          "base_uri": "https://localhost:8080/"
        },
        "id": "4xJ4deC5eIX-",
        "outputId": "ec4b120b-dc86-4287-dfa9-11951c0748f5"
      },
      "execution_count": null,
      "outputs": [
        {
          "output_type": "stream",
          "name": "stdout",
          "text": [
            "torch.Size([50])\n"
          ]
        }
      ]
    },
    {
      "cell_type": "code",
      "source": [
        "x = x.unsqueeze(dim=1)\n",
        "print(x.shape)"
      ],
      "metadata": {
        "colab": {
          "base_uri": "https://localhost:8080/"
        },
        "id": "sMNuj9Ccgn4L",
        "outputId": "fa49996b-85e6-4302-d9cf-a8e6a1b9f687"
      },
      "execution_count": null,
      "outputs": [
        {
          "output_type": "stream",
          "name": "stdout",
          "text": [
            "torch.Size([50, 1])\n"
          ]
        }
      ]
    },
    {
      "cell_type": "code",
      "source": [
        "x"
      ],
      "metadata": {
        "colab": {
          "base_uri": "https://localhost:8080/"
        },
        "id": "MJ1LSlQ7gtB0",
        "outputId": "bf53621f-7b6c-4e6d-b580-c129b300ceaa"
      },
      "execution_count": null,
      "outputs": [
        {
          "output_type": "execute_result",
          "data": {
            "text/plain": [
              "tensor([[0.0000],\n",
              "        [0.0200],\n",
              "        [0.0400],\n",
              "        [0.0600],\n",
              "        [0.0800],\n",
              "        [0.1000],\n",
              "        [0.1200],\n",
              "        [0.1400],\n",
              "        [0.1600],\n",
              "        [0.1800],\n",
              "        [0.2000],\n",
              "        [0.2200],\n",
              "        [0.2400],\n",
              "        [0.2600],\n",
              "        [0.2800],\n",
              "        [0.3000],\n",
              "        [0.3200],\n",
              "        [0.3400],\n",
              "        [0.3600],\n",
              "        [0.3800],\n",
              "        [0.4000],\n",
              "        [0.4200],\n",
              "        [0.4400],\n",
              "        [0.4600],\n",
              "        [0.4800],\n",
              "        [0.5000],\n",
              "        [0.5200],\n",
              "        [0.5400],\n",
              "        [0.5600],\n",
              "        [0.5800],\n",
              "        [0.6000],\n",
              "        [0.6200],\n",
              "        [0.6400],\n",
              "        [0.6600],\n",
              "        [0.6800],\n",
              "        [0.7000],\n",
              "        [0.7200],\n",
              "        [0.7400],\n",
              "        [0.7600],\n",
              "        [0.7800],\n",
              "        [0.8000],\n",
              "        [0.8200],\n",
              "        [0.8400],\n",
              "        [0.8600],\n",
              "        [0.8800],\n",
              "        [0.9000],\n",
              "        [0.9200],\n",
              "        [0.9400],\n",
              "        [0.9600],\n",
              "        [0.9800]])"
            ]
          },
          "metadata": {},
          "execution_count": 4
        }
      ]
    },
    {
      "cell_type": "code",
      "source": [
        "y = m*x + b\n",
        "y.shape"
      ],
      "metadata": {
        "colab": {
          "base_uri": "https://localhost:8080/"
        },
        "id": "jGCUMrOlhBcj",
        "outputId": "78ad4f26-7765-4178-db26-d8b38d79450d"
      },
      "execution_count": null,
      "outputs": [
        {
          "output_type": "execute_result",
          "data": {
            "text/plain": [
              "torch.Size([50, 1])"
            ]
          },
          "metadata": {},
          "execution_count": 5
        }
      ]
    },
    {
      "cell_type": "code",
      "source": [
        "x[:6] # 0 to 6(index 5)\n"
      ],
      "metadata": {
        "colab": {
          "base_uri": "https://localhost:8080/"
        },
        "id": "HtQGrdBqkZBM",
        "outputId": "25272e9b-681a-4963-f395-26cd87d0afd8"
      },
      "execution_count": null,
      "outputs": [
        {
          "output_type": "execute_result",
          "data": {
            "text/plain": [
              "tensor([[0.0000],\n",
              "        [0.0200],\n",
              "        [0.0400],\n",
              "        [0.0600],\n",
              "        [0.0800],\n",
              "        [0.1000]])"
            ]
          },
          "metadata": {},
          "execution_count": 6
        }
      ]
    },
    {
      "cell_type": "code",
      "source": [
        "x[6:] #6 to end(index 6 to end)"
      ],
      "metadata": {
        "colab": {
          "base_uri": "https://localhost:8080/"
        },
        "id": "a-TKfuR6kw6e",
        "outputId": "6e0ed0af-7053-4513-cbab-2bbb80b7b289"
      },
      "execution_count": null,
      "outputs": [
        {
          "output_type": "execute_result",
          "data": {
            "text/plain": [
              "tensor([[0.1200],\n",
              "        [0.1400],\n",
              "        [0.1600],\n",
              "        [0.1800],\n",
              "        [0.2000],\n",
              "        [0.2200],\n",
              "        [0.2400],\n",
              "        [0.2600],\n",
              "        [0.2800],\n",
              "        [0.3000],\n",
              "        [0.3200],\n",
              "        [0.3400],\n",
              "        [0.3600],\n",
              "        [0.3800],\n",
              "        [0.4000],\n",
              "        [0.4200],\n",
              "        [0.4400],\n",
              "        [0.4600],\n",
              "        [0.4800],\n",
              "        [0.5000],\n",
              "        [0.5200],\n",
              "        [0.5400],\n",
              "        [0.5600],\n",
              "        [0.5800],\n",
              "        [0.6000],\n",
              "        [0.6200],\n",
              "        [0.6400],\n",
              "        [0.6600],\n",
              "        [0.6800],\n",
              "        [0.7000],\n",
              "        [0.7200],\n",
              "        [0.7400],\n",
              "        [0.7600],\n",
              "        [0.7800],\n",
              "        [0.8000],\n",
              "        [0.8200],\n",
              "        [0.8400],\n",
              "        [0.8600],\n",
              "        [0.8800],\n",
              "        [0.9000],\n",
              "        [0.9200],\n",
              "        [0.9400],\n",
              "        [0.9600],\n",
              "        [0.9800]])"
            ]
          },
          "metadata": {},
          "execution_count": 7
        }
      ]
    },
    {
      "cell_type": "code",
      "source": [
        "  ## now splitting the data x,y manually\n",
        "t = int(0.8*len(y)) \n",
        "x_train,y_train = x[:t],y[:t]\n",
        "x_test,y_test = x[t:],y[t:]\n",
        "len(x_train),len(y_train),len(x_test),len(y_test)"
      ],
      "metadata": {
        "colab": {
          "base_uri": "https://localhost:8080/"
        },
        "id": "MtJ0-pKfhHdA",
        "outputId": "89b8aaa8-12ed-4979-e160-f0e3b0e57c7e"
      },
      "execution_count": null,
      "outputs": [
        {
          "output_type": "execute_result",
          "data": {
            "text/plain": [
              "(40, 40, 10, 10)"
            ]
          },
          "metadata": {},
          "execution_count": 8
        }
      ]
    },
    {
      "cell_type": "code",
      "source": [
        "#model\n",
        "from torch import nn\n",
        "class Linearmodel(nn.Module):\n",
        "\n",
        "  def __init__(self):\n",
        "    super().__init__()\n",
        "    self.weights = nn.Parameter(torch.randn(1,requires_grad=True,dtype=torch.float))\n",
        "    self.bias =  nn.Parameter(torch.randn(1,requires_grad=True,dtype=torch.float))\n",
        "  \n",
        "  def forward(self,x:torch.tensor):\n",
        "    return self.weights*x + self.bias\n",
        " \n"
      ],
      "metadata": {
        "id": "gXbuwFaFlhv3"
      },
      "execution_count": null,
      "outputs": []
    },
    {
      "cell_type": "code",
      "source": [
        "#train\n",
        "torch.manual_seed(42)\n",
        "model = Linearmodel()\n"
      ],
      "metadata": {
        "id": "QMuomzG-vbTD"
      },
      "execution_count": null,
      "outputs": []
    },
    {
      "cell_type": "code",
      "source": [
        "list(model.parameters())"
      ],
      "metadata": {
        "colab": {
          "base_uri": "https://localhost:8080/"
        },
        "id": "UJODAse489ph",
        "outputId": "d08c572e-4970-4da9-fa07-6ce28e3fe695"
      },
      "execution_count": null,
      "outputs": [
        {
          "output_type": "execute_result",
          "data": {
            "text/plain": [
              "[Parameter containing:\n",
              " tensor([0.3367], requires_grad=True), Parameter containing:\n",
              " tensor([0.1288], requires_grad=True)]"
            ]
          },
          "metadata": {},
          "execution_count": 11
        }
      ]
    },
    {
      "cell_type": "code",
      "source": [
        "model.state_dict()"
      ],
      "metadata": {
        "colab": {
          "base_uri": "https://localhost:8080/"
        },
        "id": "wgNRjyWI9EE4",
        "outputId": "a633a5f6-ed78-4f93-9c2a-10c1904df56c"
      },
      "execution_count": null,
      "outputs": [
        {
          "output_type": "execute_result",
          "data": {
            "text/plain": [
              "OrderedDict([('weights', tensor([0.3367])), ('bias', tensor([0.1288]))])"
            ]
          },
          "metadata": {},
          "execution_count": 12
        }
      ]
    },
    {
      "cell_type": "code",
      "source": [
        "m,b"
      ],
      "metadata": {
        "colab": {
          "base_uri": "https://localhost:8080/"
        },
        "id": "nIEjScWz9LIP",
        "outputId": "464fc510-3afd-486e-9b07-e1209a1327d2"
      },
      "execution_count": null,
      "outputs": [
        {
          "output_type": "execute_result",
          "data": {
            "text/plain": [
              "(0.7, 0.3)"
            ]
          },
          "metadata": {},
          "execution_count": 13
        }
      ]
    },
    {
      "cell_type": "code",
      "source": [
        "#training and setting up the model\n",
        "loss = torch.nn.L1Loss()\n",
        "optimizer = torch.optim.SGD(params=model.parameters(), lr = 0.01)"
      ],
      "metadata": {
        "id": "Y3Qb7uuL9NKH"
      },
      "execution_count": null,
      "outputs": []
    },
    {
      "cell_type": "code",
      "source": [
        "epochs = 100\n",
        "for epoch in range(epochs):\n",
        "  #train mode\n",
        "  model.train()\n",
        "  #forward pass\n",
        "  y_pred = model(x_train)\n",
        "  #loss\n",
        "  lfunc = loss(y_pred,y_train)\n",
        "  print(f\"loss :{lfunc}\")\n",
        "  #zero\n",
        "  optimizer.zero_grad()\n",
        "  #back propagate\n",
        "  lfunc.backward() \n",
        "  #step function\n",
        "  optimizer.step()\n",
        "  ## testing\n",
        "  model.eval()\n",
        "  with torch.inference_mode():\n",
        "    #forward pass\n",
        "    y_pred_test = model(x_test)\n",
        "    #loss calculation\n",
        "    test_loss = loss(y_pred_test,y_test)\n",
        "  if epoch%10 == 0 :\n",
        "    print(f\"Epoch:{epoch} | loss:{lfunc} | test_loss:{test_loss}\")\n",
        "    print(model.state_dict())\n",
        "\n",
        "\n"
      ],
      "metadata": {
        "colab": {
          "base_uri": "https://localhost:8080/"
        },
        "id": "G6IhlqPy9Rig",
        "outputId": "db74b5f0-5967-447c-cfce-5b00909d67bf"
      },
      "execution_count": null,
      "outputs": [
        {
          "output_type": "stream",
          "name": "stdout",
          "text": [
            "loss :0.31288138031959534\n",
            "Epoch:0 | loss:0.31288138031959534 | test_loss:0.48106518387794495\n",
            "OrderedDict([('weights', tensor([0.3406])), ('bias', tensor([0.1388]))])\n",
            "loss :0.3013603389263153\n",
            "loss :0.28983935713768005\n",
            "loss :0.2783183455467224\n",
            "loss :0.26679736375808716\n",
            "loss :0.2552763521671295\n",
            "loss :0.24375534057617188\n",
            "loss :0.23223432898521423\n",
            "loss :0.22071333229541779\n",
            "loss :0.20919232070446014\n",
            "loss :0.1976713240146637\n",
            "Epoch:10 | loss:0.1976713240146637 | test_loss:0.3463551998138428\n",
            "OrderedDict([('weights', tensor([0.3796])), ('bias', tensor([0.2388]))])\n",
            "loss :0.18615034222602844\n",
            "loss :0.1746293306350708\n",
            "loss :0.16310831904411316\n",
            "loss :0.1515873372554779\n",
            "loss :0.14006635546684265\n",
            "loss :0.1285453587770462\n",
            "loss :0.11702437698841095\n",
            "loss :0.1060912236571312\n",
            "loss :0.09681284427642822\n",
            "loss :0.08908725529909134\n",
            "Epoch:20 | loss:0.08908725529909134 | test_loss:0.21729660034179688\n",
            "OrderedDict([('weights', tensor([0.4184])), ('bias', tensor([0.3333]))])\n",
            "loss :0.08227583020925522\n",
            "loss :0.07638873159885406\n",
            "loss :0.07160007208585739\n",
            "loss :0.06747635453939438\n",
            "loss :0.06395438313484192\n",
            "loss :0.06097004935145378\n",
            "loss :0.05845819041132927\n",
            "loss :0.05635259300470352\n",
            "loss :0.0545857772231102\n",
            "loss :0.053148526698350906\n",
            "Epoch:30 | loss:0.053148526698350906 | test_loss:0.14464017748832703\n",
            "OrderedDict([('weights', tensor([0.4512])), ('bias', tensor([0.3768]))])\n",
            "loss :0.05181945487856865\n",
            "loss :0.05069301277399063\n",
            "loss :0.0498228520154953\n",
            "loss :0.04895269125699997\n",
            "loss :0.04819351062178612\n",
            "loss :0.047531817108392715\n",
            "loss :0.04692792519927025\n",
            "loss :0.04642331600189209\n",
            "loss :0.04591871052980423\n",
            "loss :0.04543796554207802\n",
            "Epoch:40 | loss:0.04543796554207802 | test_loss:0.11360953003168106\n",
            "OrderedDict([('weights', tensor([0.4748])), ('bias', tensor([0.3868]))])\n",
            "loss :0.04503796249628067\n",
            "loss :0.04463795945048332\n",
            "loss :0.04423796385526657\n",
            "loss :0.04383796453475952\n",
            "loss :0.04343796148896217\n",
            "loss :0.043074630200862885\n",
            "loss :0.04272563382983208\n",
            "loss :0.04237663000822067\n",
            "loss :0.04202762991189957\n",
            "loss :0.04167863354086876\n",
            "Epoch:50 | loss:0.04167863354086876 | test_loss:0.09919948130846024\n",
            "OrderedDict([('weights', tensor([0.4938])), ('bias', tensor([0.3843]))])\n",
            "loss :0.04132963344454765\n",
            "loss :0.04098063334822655\n",
            "loss :0.04063162952661514\n",
            "loss :0.040282636880874634\n",
            "loss :0.039933640509843826\n",
            "loss :0.03958464413881302\n",
            "loss :0.03923564404249191\n",
            "loss :0.03888664394617081\n",
            "loss :0.0385376438498497\n",
            "loss :0.03818932920694351\n",
            "Epoch:60 | loss:0.03818932920694351 | test_loss:0.08886633068323135\n",
            "OrderedDict([('weights', tensor([0.5116])), ('bias', tensor([0.3788]))])\n",
            "loss :0.03785243630409241\n",
            "loss :0.0375034399330616\n",
            "loss :0.037164121866226196\n",
            "loss :0.03681822493672371\n",
            "loss :0.03647511452436447\n",
            "loss :0.03613303601741791\n",
            "loss :0.03578609973192215\n",
            "loss :0.03544783592224121\n",
            "loss :0.035098835825920105\n",
            "loss :0.03476089984178543\n",
            "Epoch:70 | loss:0.03476089984178543 | test_loss:0.0805937647819519\n",
            "OrderedDict([('weights', tensor([0.5288])), ('bias', tensor([0.3718]))])\n",
            "loss :0.03441363573074341\n",
            "loss :0.03407188132405281\n",
            "loss :0.03372843936085701\n",
            "loss :0.03338287025690079\n",
            "loss :0.033043231815099716\n",
            "loss :0.03269423171877861\n",
            "loss :0.032357655465602875\n",
            "loss :0.03200903534889221\n",
            "loss :0.03166864812374115\n",
            "loss :0.03132382780313492\n",
            "Epoch:80 | loss:0.03132382780313492 | test_loss:0.07232122868299484\n",
            "OrderedDict([('weights', tensor([0.5459])), ('bias', tensor([0.3648]))])\n",
            "loss :0.030979642644524574\n",
            "loss :0.030638623982667923\n",
            "loss :0.0302906334400177\n",
            "loss :0.029953425750136375\n",
            "loss :0.02960442565381527\n",
            "loss :0.029265418648719788\n",
            "loss :0.028919223695993423\n",
            "loss :0.028576409444212914\n",
            "loss :0.028234025463461876\n",
            "loss :0.02788739837706089\n",
            "Epoch:90 | loss:0.02788739837706089 | test_loss:0.06473556160926819\n",
            "OrderedDict([('weights', tensor([0.5629])), ('bias', tensor([0.3573]))])\n",
            "loss :0.02754882536828518\n",
            "loss :0.027199819684028625\n",
            "loss :0.026862185448408127\n",
            "loss :0.02651461586356163\n",
            "loss :0.026173178106546402\n",
            "loss :0.025829419493675232\n",
            "loss :0.02548416517674923\n",
            "loss :0.025144213810563087\n",
            "loss :0.02479521557688713\n"
          ]
        }
      ]
    },
    {
      "cell_type": "code",
      "source": [
        "model.state_dict() "
      ],
      "metadata": {
        "colab": {
          "base_uri": "https://localhost:8080/"
        },
        "id": "ntul_fJdKlno",
        "outputId": "64fbab48-9d59-4483-8b67-cd2e9cc6f420"
      },
      "execution_count": null,
      "outputs": [
        {
          "output_type": "execute_result",
          "data": {
            "text/plain": [
              "OrderedDict([('weights', tensor([0.5784])), ('bias', tensor([0.3513]))])"
            ]
          },
          "metadata": {},
          "execution_count": 16
        }
      ]
    },
    {
      "cell_type": "code",
      "source": [
        "# over 1500 epochs we reached an accurate value"
      ],
      "metadata": {
        "id": "llHYY4XJMGiX"
      },
      "execution_count": null,
      "outputs": []
    },
    {
      "cell_type": "code",
      "source": [
        "with torch.inference_mode():\n",
        "  y_preds_new = model(x_test)\n",
        "y_preds_new   "
      ],
      "metadata": {
        "colab": {
          "base_uri": "https://localhost:8080/"
        },
        "id": "gr152h03LWmQ",
        "outputId": "41b75820-c9e0-4121-f88c-c212c7d48352"
      },
      "execution_count": null,
      "outputs": [
        {
          "output_type": "execute_result",
          "data": {
            "text/plain": [
              "tensor([[0.8141],\n",
              "        [0.8256],\n",
              "        [0.8372],\n",
              "        [0.8488],\n",
              "        [0.8603],\n",
              "        [0.8719],\n",
              "        [0.8835],\n",
              "        [0.8950],\n",
              "        [0.9066],\n",
              "        [0.9182]])"
            ]
          },
          "metadata": {},
          "execution_count": 18
        }
      ]
    },
    {
      "cell_type": "code",
      "source": [
        "y_test"
      ],
      "metadata": {
        "colab": {
          "base_uri": "https://localhost:8080/"
        },
        "id": "LxmET-8VMm4_",
        "outputId": "5f02c298-2069-46a6-ec6f-2ed4736e9fb4"
      },
      "execution_count": null,
      "outputs": [
        {
          "output_type": "execute_result",
          "data": {
            "text/plain": [
              "tensor([[0.8600],\n",
              "        [0.8740],\n",
              "        [0.8880],\n",
              "        [0.9020],\n",
              "        [0.9160],\n",
              "        [0.9300],\n",
              "        [0.9440],\n",
              "        [0.9580],\n",
              "        [0.9720],\n",
              "        [0.9860]])"
            ]
          },
          "metadata": {},
          "execution_count": 19
        }
      ]
    },
    {
      "cell_type": "code",
      "source": [
        "#Saving the model\n",
        "from pathlib import Path\n",
        "# make directory\n",
        "model_path = Path('models')\n",
        "model_path.mkdir(parents=True,exist_ok=True)\n",
        "# saving name, path\n",
        "model_name = \"Pytorch_model_1.pth\"\n",
        "model_save_path = model_path / model_name\n",
        "print('model saved')\n",
        "torch.save(model.state_dict(),model_save_path)"
      ],
      "metadata": {
        "id": "m_4MV8zIMo-u",
        "colab": {
          "base_uri": "https://localhost:8080/"
        },
        "outputId": "97d46387-efc7-4b1f-e3bc-ff9af3d0b207"
      },
      "execution_count": null,
      "outputs": [
        {
          "output_type": "stream",
          "name": "stdout",
          "text": [
            "model saved\n"
          ]
        }
      ]
    },
    {
      "cell_type": "markdown",
      "source": [
        "#load the model"
      ],
      "metadata": {
        "id": "kqcMv-IZkjSV"
      }
    },
    {
      "cell_type": "code",
      "source": [
        "loaded_model = Linearmodel()\n",
        "# load the saved parameters in the new abstract of the Linearmodel\n",
        "loaded_model.load_state_dict(torch.load(model_save_path))"
      ],
      "metadata": {
        "colab": {
          "base_uri": "https://localhost:8080/"
        },
        "id": "B73BbTH3imkh",
        "outputId": "2c28fa2e-57d8-492f-fdb7-f46fe393d30f"
      },
      "execution_count": null,
      "outputs": [
        {
          "output_type": "execute_result",
          "data": {
            "text/plain": [
              "<All keys matched successfully>"
            ]
          },
          "metadata": {},
          "execution_count": 22
        }
      ]
    },
    {
      "cell_type": "code",
      "source": [
        " loaded_model.state_dict()"
      ],
      "metadata": {
        "colab": {
          "base_uri": "https://localhost:8080/"
        },
        "id": "f9v63VVemCUc",
        "outputId": "0e6a388f-64bb-4478-f794-e228b50d7b6b"
      },
      "execution_count": null,
      "outputs": [
        {
          "output_type": "execute_result",
          "data": {
            "text/plain": [
              "OrderedDict([('weights', tensor([0.5784])), ('bias', tensor([0.3513]))])"
            ]
          },
          "metadata": {},
          "execution_count": 24
        }
      ]
    },
    {
      "cell_type": "code",
      "source": [],
      "metadata": {
        "id": "ukc8pCPcmG6L"
      },
      "execution_count": null,
      "outputs": []
    }
  ]
}