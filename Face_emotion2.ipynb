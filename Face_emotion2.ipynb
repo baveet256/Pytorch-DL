{
  "cells": [
    {
      "cell_type": "markdown",
      "metadata": {
        "id": "view-in-github",
        "colab_type": "text"
      },
      "source": [
        "<a href=\"https://colab.research.google.com/github/baveet256/Pytorch-DL/blob/main/Face_emotion2.ipynb\" target=\"_parent\"><img src=\"https://colab.research.google.com/assets/colab-badge.svg\" alt=\"Open In Colab\"/></a>"
      ]
    },
    {
      "cell_type": "code",
      "execution_count": null,
      "metadata": {
        "colab": {
          "base_uri": "https://localhost:8080/"
        },
        "id": "knhBWXp8hY4G",
        "outputId": "25f19468-a74c-498a-9aec-b87b8eb84048"
      },
      "outputs": [
        {
          "name": "stdout",
          "output_type": "stream",
          "text": [
            "Wed Nov  9 13:13:04 2022       \n",
            "+-----------------------------------------------------------------------------+\n",
            "| NVIDIA-SMI 460.32.03    Driver Version: 460.32.03    CUDA Version: 11.2     |\n",
            "|-------------------------------+----------------------+----------------------+\n",
            "| GPU  Name        Persistence-M| Bus-Id        Disp.A | Volatile Uncorr. ECC |\n",
            "| Fan  Temp  Perf  Pwr:Usage/Cap|         Memory-Usage | GPU-Util  Compute M. |\n",
            "|                               |                      |               MIG M. |\n",
            "|===============================+======================+======================|\n",
            "|   0  Tesla T4            Off  | 00000000:00:04.0 Off |                    0 |\n",
            "| N/A   51C    P8    12W /  70W |      0MiB / 15109MiB |      0%      Default |\n",
            "|                               |                      |                  N/A |\n",
            "+-------------------------------+----------------------+----------------------+\n",
            "                                                                               \n",
            "+-----------------------------------------------------------------------------+\n",
            "| Processes:                                                                  |\n",
            "|  GPU   GI   CI        PID   Type   Process name                  GPU Memory |\n",
            "|        ID   ID                                                   Usage      |\n",
            "|=============================================================================|\n",
            "|  No running processes found                                                 |\n",
            "+-----------------------------------------------------------------------------+\n"
          ]
        }
      ],
      "source": [
        "!nvidia-smi"
      ]
    },
    {
      "cell_type": "code",
      "execution_count": null,
      "metadata": {
        "colab": {
          "base_uri": "https://localhost:8080/"
        },
        "id": "LcONMw8Gjqsn",
        "outputId": "749dc2f9-a943-403d-e8d4-74fcb2728a68"
      },
      "outputs": [
        {
          "name": "stdout",
          "output_type": "stream",
          "text": [
            "Drive already mounted at /content/drive; to attempt to forcibly remount, call drive.mount(\"/content/drive\", force_remount=True).\n"
          ]
        }
      ],
      "source": [
        "from google.colab import drive\n",
        "drive.mount('/content/drive')"
      ]
    },
    {
      "cell_type": "code",
      "execution_count": null,
      "metadata": {
        "colab": {
          "base_uri": "https://localhost:8080/"
        },
        "id": "FypB9cKVBXw0",
        "outputId": "bb26eeb1-3447-4cdc-99bf-fc639e95cfce"
      },
      "outputs": [
        {
          "name": "stdout",
          "output_type": "stream",
          "text": [
            "is there\n"
          ]
        }
      ],
      "source": [
        "import zipfile\n",
        "from pathlib import Path\n",
        "dir_path = Path(\"/content/drive/MyDrive/Face_Dataset\")\n",
        "unzip_path = dir_path / \"unzipped\"\n",
        "\n",
        "if unzip_path.is_dir():\n",
        "    print(\"is there\")\n",
        "else:  \n",
        "  unzip_path.mkdir(parents=True, exist_ok=True)\n",
        "  with zipfile.ZipFile(\"/content/drive/MyDrive/ Face_Dataset/archive.zip\") as f:\n",
        "    f.extractall(unzip_path)"
      ]
    },
    {
      "cell_type": "code",
      "execution_count": null,
      "metadata": {
        "id": "VghtxaV1--lk"
      },
      "outputs": [],
      "source": [
        "import torch\n",
        "from torch.utils.data import DataLoader\n",
        "from torchvision import datasets, transforms\n",
        "from torch import nn"
      ]
    },
    {
      "cell_type": "code",
      "execution_count": null,
      "metadata": {
        "id": "ifij_WHt-Vsk"
      },
      "outputs": [],
      "source": [
        "from pathlib import Path\n",
        "data_path = Path(\"/content/drive/MyDrive/Face_Dataset/unzipped\")"
      ]
    },
    {
      "cell_type": "code",
      "execution_count": null,
      "metadata": {
        "id": "xm7Q0lSE8Nvc"
      },
      "outputs": [],
      "source": [
        "data_transform = transforms.Compose([\n",
        "    transforms.Grayscale(),\n",
        "    transforms.RandomHorizontalFlip(p=0.5),\n",
        "    transforms.ToTensor() \n",
        "])"
      ]
    },
    {
      "cell_type": "code",
      "execution_count": null,
      "metadata": {
        "id": "tcNByO5KAKMj"
      },
      "outputs": [],
      "source": [
        "train_dir = data_path / \"train\"\n",
        "test_dir = data_path / \"test\""
      ]
    },
    {
      "cell_type": "code",
      "execution_count": null,
      "metadata": {
        "colab": {
          "base_uri": "https://localhost:8080/"
        },
        "id": "JfNiGgEoATPM",
        "outputId": "d56e147f-3bca-480a-bce6-21f70928e1e9"
      },
      "outputs": [
        {
          "data": {
            "text/plain": [
              "PosixPath('/content/drive/MyDrive/Face_Dataset/unzipped/train')"
            ]
          },
          "execution_count": 7,
          "metadata": {},
          "output_type": "execute_result"
        }
      ],
      "source": [
        "train_dir"
      ]
    },
    {
      "cell_type": "code",
      "execution_count": null,
      "metadata": {
        "colab": {
          "base_uri": "https://localhost:8080/"
        },
        "id": "VTRpLGOS5NUy",
        "outputId": "0757a3cd-e133-4335-d4cd-fb6876058d59"
      },
      "outputs": [
        {
          "name": "stdout",
          "output_type": "stream",
          "text": [
            "Train data:\n",
            "Dataset ImageFolder\n",
            "    Number of datapoints: 28709\n",
            "    Root location: /content/drive/MyDrive/Face_Dataset/unzipped/train\n",
            "    StandardTransform\n",
            "Transform: Compose(\n",
            "               Grayscale(num_output_channels=1)\n",
            "               RandomHorizontalFlip(p=0.5)\n",
            "               ToTensor()\n",
            "           )\n",
            "Test data:\n",
            "Dataset ImageFolder\n",
            "    Number of datapoints: 7178\n",
            "    Root location: /content/drive/MyDrive/Face_Dataset/unzipped/test\n",
            "    StandardTransform\n",
            "Transform: Compose(\n",
            "               Grayscale(num_output_channels=1)\n",
            "               RandomHorizontalFlip(p=0.5)\n",
            "               ToTensor()\n",
            "           )\n"
          ]
        }
      ],
      "source": [
        "train_data = datasets.ImageFolder(root=train_dir,transform=data_transform,target_transform=None)\n",
        "test_data = datasets.ImageFolder(root=test_dir,transform=data_transform)\n",
        "print(f\"Train data:\\n{train_data}\\nTest data:\\n{test_data}\")"
      ]
    },
    {
      "cell_type": "code",
      "execution_count": null,
      "metadata": {
        "colab": {
          "base_uri": "https://localhost:8080/"
        },
        "id": "4SKMFGDOEtG1",
        "outputId": "75bf4144-45f1-4e21-8f55-1175f31706e0"
      },
      "outputs": [
        {
          "data": {
            "text/plain": [
              "['angry', 'disgust', 'fear', 'happy', 'neutral', 'sad', 'surprise']"
            ]
          },
          "execution_count": 13,
          "metadata": {},
          "output_type": "execute_result"
        }
      ],
      "source": [
        "class_names = train_data.classes\n",
        "class_names"
      ]
    },
    {
      "cell_type": "code",
      "execution_count": null,
      "metadata": {
        "colab": {
          "base_uri": "https://localhost:8080/"
        },
        "id": "v0O2zEnLFCZV",
        "outputId": "b06e55a7-fe9d-497b-cd83-10d0b82cc8ec"
      },
      "outputs": [
        {
          "data": {
            "text/plain": [
              "torch.Size([1, 48, 48])"
            ]
          },
          "execution_count": 14,
          "metadata": {},
          "output_type": "execute_result"
        }
      ],
      "source": [
        "train_data[0][0].shape"
      ]
    },
    {
      "cell_type": "code",
      "execution_count": null,
      "metadata": {
        "id": "Ix6-jvIjFMlS"
      },
      "outputs": [],
      "source": [
        "# to visualize we will do matplotlib\n",
        "import matplotlib.pyplot as plt"
      ]
    },
    {
      "cell_type": "code",
      "execution_count": null,
      "metadata": {
        "colab": {
          "base_uri": "https://localhost:8080/",
          "height": 445
        },
        "id": "fjEGvLwLFp_d",
        "outputId": "eefcae97-6b91-4bda-c202-c28b8c62bbe9"
      },
      "outputs": [
        {
          "name": "stdout",
          "output_type": "stream",
          "text": [
            "torch.Size([48, 48])\n"
          ]
        },
        {
          "data": {
            "image/png": "[encoded data removed]",
            "text/plain": [
              "<Figure size 720x504 with 1 Axes>"
            ]
          },
          "metadata": {},
          "output_type": "display_data"
        }
      ],
      "source": [
        "img,label = train_data[0][0],train_data[0][1]\n",
        "img_new = img.permute(1,2,0).squeeze(dim=2)\n",
        "print(img_new.shape)\n",
        "plt.figure(figsize=(10, 7))\n",
        "plt.imshow(img_new, cmap='gray')\n",
        "plt.axis(\"off\")\n",
        "plt.title(class_names[label], fontsize=14);"
      ]
    },
    {
      "cell_type": "code",
      "execution_count": null,
      "metadata": {
        "colab": {
          "base_uri": "https://localhost:8080/",
          "height": 35
        },
        "id": "IhdiWNEOeILP",
        "outputId": "826d478f-f362-41c7-a17d-2c0edd58a5a3"
      },
      "outputs": [
        {
          "data": {
            "application/vnd.google.colaboratory.intrinsic+json": {
              "type": "string"
            },
            "text/plain": [
              "'cuda'"
            ]
          },
          "execution_count": 52,
          "metadata": {},
          "output_type": "execute_result"
        }
      ],
      "source": [
        "device = 'cuda' if torch.cuda.is_available() else 'cpu'\n",
        "device"
      ]
    },
    {
      "cell_type": "code",
      "execution_count": null,
      "metadata": {
        "id": "Ju_GL-sMGRvt"
      },
      "outputs": [],
      "source": [
        "train_dataloader = DataLoader(dataset=train_data,batch_size=32,shuffle=True)\n",
        "test_dataloader = DataLoader(dataset=test_data,batch_size=32,shuffle=False)"
      ]
    },
    {
      "cell_type": "code",
      "execution_count": null,
      "metadata": {
        "id": "BgbQWoXsKRgP"
      },
      "outputs": [],
      "source": [
        "class Emotionmodel(nn.Module):\n",
        "  def __init__(self,input_channels:int,out_channel:int):\n",
        "    super().__init__()\n",
        "    self.layer_stack1 = nn.Sequential(\n",
        "      nn.Conv2d(in_channels=input_channels,out_channels=32, kernel_size = 3, padding =1, stride=1),\n",
        "      nn.ReLU(),\n",
        "      nn.Conv2d(in_channels=32,out_channels=64, kernel_size = 3, padding =1, stride=1),\n",
        "      nn.ReLU(),\n",
        "      nn.MaxPool2d(kernel_size=2),\n",
        "      nn.Dropout(p=0.25),\n",
        "    )\n",
        "    self.layer_stack2 = nn.Sequential(\n",
        "      nn.Conv2d(in_channels=64,out_channels=128, kernel_size = 3, padding =1, stride=1),\n",
        "      nn.ReLU(),\n",
        "      nn.MaxPool2d(kernel_size=2),\n",
        "      nn.Conv2d(in_channels=128,out_channels=128, kernel_size = 3, padding =1, stride=1),\n",
        "      nn.ReLU(),\n",
        "      nn.MaxPool2d(kernel_size=2),\n",
        "      nn.Dropout(p=0.25),\n",
        "    )\n",
        "    self.layer_stack3 = nn.Sequential(\n",
        "      nn.Flatten(),\n",
        "      # 6x6= 36\n",
        "      #we checked the in features by multiplication in between them.\n",
        "      nn.Linear(in_features =36*128,out_features=256),\n",
        "      nn.ReLU(),\n",
        "      nn.Dropout(p=0.5),\n",
        "      nn.Linear(in_features =256 ,out_features=7),\n",
        "      nn.Softmax(dim=1)\n",
        "    )\n",
        "  def forward(self,x):\n",
        "    x = self.layer_stack1(x)\n",
        "    #print(x.shape)\n",
        "    #x = x.unsqueeze(dim=0)\n",
        "    #print(x.shape)\n",
        "    x = self.layer_stack2(x)\n",
        "    #print(x.shape)\n",
        "    #f = nn.Flatten()\n",
        "    #o=f(x)\n",
        "    #print(o.shape)\n",
        "    x = self.layer_stack3(x)\n",
        "    #print(x.shape)\n",
        "    return x"
      ]
    },
    {
      "cell_type": "code",
      "execution_count": null,
      "metadata": {
        "colab": {
          "base_uri": "https://localhost:8080/"
        },
        "id": "_yky3zcZPbxv",
        "outputId": "56efe8cf-8e4f-437c-d970-0485326c7144"
      },
      "outputs": [
        {
          "data": {
            "text/plain": [
              "Emotionmodel(\n",
              "  (layer_stack1): Sequential(\n",
              "    (0): Conv2d(1, 32, kernel_size=(3, 3), stride=(1, 1), padding=(1, 1))\n",
              "    (1): ReLU()\n",
              "    (2): Conv2d(32, 64, kernel_size=(3, 3), stride=(1, 1), padding=(1, 1))\n",
              "    (3): ReLU()\n",
              "    (4): MaxPool2d(kernel_size=2, stride=2, padding=0, dilation=1, ceil_mode=False)\n",
              "    (5): Dropout(p=0.25, inplace=False)\n",
              "  )\n",
              "  (layer_stack2): Sequential(\n",
              "    (0): Conv2d(64, 128, kernel_size=(3, 3), stride=(1, 1), padding=(1, 1))\n",
              "    (1): ReLU()\n",
              "    (2): MaxPool2d(kernel_size=2, stride=2, padding=0, dilation=1, ceil_mode=False)\n",
              "    (3): Conv2d(128, 128, kernel_size=(3, 3), stride=(1, 1), padding=(1, 1))\n",
              "    (4): ReLU()\n",
              "    (5): MaxPool2d(kernel_size=2, stride=2, padding=0, dilation=1, ceil_mode=False)\n",
              "    (6): Dropout(p=0.25, inplace=False)\n",
              "  )\n",
              "  (layer_stack3): Sequential(\n",
              "    (0): Flatten(start_dim=1, end_dim=-1)\n",
              "    (1): Linear(in_features=4608, out_features=256, bias=True)\n",
              "    (2): ReLU()\n",
              "    (3): Dropout(p=0.5, inplace=False)\n",
              "    (4): Linear(in_features=256, out_features=7, bias=True)\n",
              "    (5): Softmax(dim=1)\n",
              "  )\n",
              ")"
            ]
          },
          "execution_count": 64,
          "metadata": {},
          "output_type": "execute_result"
        }
      ],
      "source": [
        "torch.manual_seed(42)\n",
        "model_conv = Emotionmodel(1,out_channel = len(train_data.classes)).to(device)\n",
        "model_conv"
      ]
    },
    {
      "cell_type": "code",
      "execution_count": null,
      "metadata": {
        "colab": {
          "base_uri": "https://localhost:8080/"
        },
        "id": "yLZe6wTGTKso",
        "outputId": "dbcfde92-2b79-4f8a-8431-d155887574dc"
      },
      "outputs": [
        {
          "data": {
            "text/plain": [
              "torch.Size([1, 48, 48])"
            ]
          },
          "execution_count": 49,
          "metadata": {},
          "output_type": "execute_result"
        }
      ],
      "source": [
        "img = img.to(device)\n",
        "img.shape"
      ]
    },
    {
      "cell_type": "code",
      "execution_count": null,
      "metadata": {
        "id": "xHn2w6UtdkyH"
      },
      "outputs": [],
      "source": [
        "loss_fn = nn.CrossEntropyLoss()\n",
        "optimizer = torch.optim.Adam(params=model_conv.parameters(),lr=0.1,weight_decay = 1e-6)"
      ]
    },
    {
      "cell_type": "code",
      "execution_count": null,
      "metadata": {
        "id": "vdU87GpofMDJ"
      },
      "outputs": [],
      "source": [
        "def accuracy_fn(y_true, y_pred):\n",
        "    correct = torch.eq(y_true, y_pred).sum().item()\n",
        "    acc = (correct / len(y_pred)) * 100\n",
        "    return acc\n"
      ]
    },
    {
      "cell_type": "code",
      "execution_count": null,
      "metadata": {
        "id": "scu5a69DdFHX"
      },
      "outputs": [],
      "source": [
        "from timeit import default_timer as timer\n",
        "from tqdm.auto import tqdm\n",
        "def train_time(start: float,end: float,device:torch.device = None):\n",
        "  tot_time = end - start\n",
        "  print(f\"time taken:{tot_time:.3f} seconds , on device:{device}\")\n",
        "  return tot_time\n"
      ]
    },
    {
      "cell_type": "code",
      "execution_count": null,
      "metadata": {
        "id": "VJStSn8OVFWL"
      },
      "outputs": [],
      "source": [
        "def train_step(model:nn.Module,\n",
        "               data_loader:torch.utils.data.DataLoader,\n",
        "               loss_fn:nn.Module,\n",
        "               optimizer:torch.optim.Optimizer,\n",
        "               accuracy_fn,\n",
        "               device:torch.device=device):\n",
        "  train_loss,train_acc =0,0\n",
        "  #model.train()\n",
        "  for batch_number ,(X,y) in enumerate(data_loader):\n",
        "    X,y = X.to(device),y.to(device)\n",
        "    y_pred = model(X)\n",
        "    loss = loss_fn(y_pred,y)\n",
        "    # loss for every batches  \n",
        "    train_loss+=loss\n",
        "    train_acc +=accuracy_fn(y,y_pred.argmax(dim=1))  \n",
        "    #optimitzer\n",
        "    optimizer.zero_grad()\n",
        "    loss.backward()\n",
        "    optimizer.step()\n",
        "\n",
        "    # Calculate loss and accuracy per epoch and print out what's happening\n",
        "  train_loss /= len(data_loader)\n",
        "  train_acc /= len(data_loader)\n",
        "  print(f\"Train loss: {train_loss:.5f} | Train accuracy: {train_acc:.2f}%\")"
      ]
    },
    {
      "cell_type": "code",
      "execution_count": null,
      "metadata": {
        "id": "tsIGbcCWc1Tv"
      },
      "outputs": [],
      "source": [
        "def test_step(model:nn.Module,\n",
        "               data_loader:torch.utils.data.DataLoader,\n",
        "               loss_fn:nn.Module,\n",
        "               accuracy_fn,\n",
        "               device:torch.device=device):\n",
        "  model.eval()\n",
        "  test_loss,test_acc=0,0\n",
        "  with torch.inference_mode():\n",
        "    for X,y in data_loader:\n",
        "      X,y = X.to(device),y.to(device)\n",
        "      test_pred = model(X)\n",
        "      test_loss+=loss_fn(test_pred,y)\n",
        "      test_acc+=accuracy_fn(y,test_pred.argmax(dim=1))\n",
        "    test_loss/=len(data_loader)\n",
        "    test_acc/=len(data_loader)\n",
        "    print(f\"\\nTest loss: {test_loss:.5f}, Test acc: {test_acc:.2f}%\\n\") "
      ]
    },
    {
      "cell_type": "code",
      "execution_count": null,
      "metadata": {
        "id": "p9XZ5Fhfg6uW"
      },
      "outputs": [],
      "source": [
        "def eval_model(model:torch.nn.Module,\n",
        "               data_loader:torch.utils.data.DataLoader,\n",
        "               loss_fn:torch.nn.Module,\n",
        "               accuracy_fn):\n",
        "   #return dictionary of results\n",
        "  loss,acc=0,0\n",
        "  with torch.inference_mode():\n",
        "    for X,y in data_loader:\n",
        "      eval_pred = model(X)\n",
        "      loss +=loss_fn(eval_pred,y) \n",
        "      acc  +=accuracy_fn(y,eval_pred.argmax(dim=1))\n",
        "    loss /=len(data_loader)\n",
        "    acc /=len(data_loader)\n",
        "  return {\"model_name\":model.__class__.__name__,\n",
        "          \"model_loss\":loss.item(),\n",
        "          \"model_acc\":acc}   "
      ]
    },
    {
      "cell_type": "code",
      "execution_count": null,
      "metadata": {
        "colab": {
          "background_save": true,
          "base_uri": "https://localhost:8080/",
          "height": 84,
          "referenced_widgets": [
            "51e88046bffd4991bc49472b6d2be364",
            "1d0651d7667a4f4fb3e68564b37c7c4d",
            "70849d043e5f4f599da6b3284a71f7cd",
            "64e2fc2e30c34d75937ccf07dac387c6",
            "e5e8c3d6f5f04d318a32123ea1af5f23",
            "ed93896858164dcc9722d958326c20ec",
            "30a8e7a4853248b899310e4bc8c6b9e4",
            "625a70ddebc949f48f4cbf39d3d1854d",
            "857f70105af84aa48d77d85ccf234b31",
            "b0082fa528b74029acb46c59218a75f8",
            "1125a3da10804dad96bc6594057f10f4"
          ]
        },
        "id": "cdmgwiZyc8E2",
        "outputId": "c13d3004-88f6-45fa-c2f1-d89842d77ca5"
      },
      "outputs": [
        {
          "data": {
            "application/vnd.jupyter.widget-view+json": {
              "model_id": "51e88046bffd4991bc49472b6d2be364",
              "version_major": 2,
              "version_minor": 0
            },
            "text/plain": [
              "  0%|          | 0/1 [00:00<?, ?it/s]"
            ]
          },
          "metadata": {},
          "output_type": "display_data"
        },
        {
          "name": "stdout",
          "output_type": "stream",
          "text": [
            "Epoch: 0\n",
            "---------\n"
          ]
        }
      ],
      "source": [
        "torch.manual_seed(42)\n",
        "start_time=timer()\n",
        "epochs = 1\n",
        "for epoch in tqdm(range(epochs)):\n",
        "   print(f\"Epoch: {epoch}\\n---------\")\n",
        "   train_step(model_conv,train_dataloader,loss_fn,optimizer,accuracy_fn,device)\n",
        "   test_step(model_conv,test_dataloader,loss_fn,accuracy_fn,device)\n",
        "end_time = timer()\n",
        "train_time(start_time,end_time,device)   "
      ]
    },
    {
      "cell_type": "code",
      "execution_count": null,
      "metadata": {
        "id": "Wz_U-TMJfgP3"
      },
      "outputs": [],
      "source": []
    }
  ],
  "metadata": {
    "accelerator": "GPU",
    "colab": {
      "collapsed_sections": [],
      "provenance": [],
      "mount_file_id": "111fqhsHwoJ4tCKvG7iLojrj8njQb3DR6",
      "authorship_tag": "ABX9TyOIZudcernlxXFfBX0IwdZv",
      "include_colab_link": true
    },
    "gpuClass": "standard",
    "kernelspec": {
      "display_name": "Python 3",
      "name": "python3"
    },
    "language_info": {
      "name": "python"
    },
    "widgets": {
      "application/vnd.jupyter.widget-state+json": {
        "1125a3da10804dad96bc6594057f10f4": {
          "model_module": "@jupyter-widgets/controls",
          "model_module_version": "1.5.0",
          "model_name": "DescriptionStyleModel",
          "state": {
            "_model_module": "@jupyter-widgets/controls",
            "_model_module_version": "1.5.0",
            "_model_name": "DescriptionStyleModel",
            "_view_count": null,
            "_view_module": "@jupyter-widgets/base",
            "_view_module_version": "1.2.0",
            "_view_name": "StyleView",
            "description_width": ""
          }
        },
        "1d0651d7667a4f4fb3e68564b37c7c4d": {
          "model_module": "@jupyter-widgets/controls",
          "model_module_version": "1.5.0",
          "model_name": "HTMLModel",
          "state": {
            "_dom_classes": [],
            "_model_module": "@jupyter-widgets/controls",
            "_model_module_version": "1.5.0",
            "_model_name": "HTMLModel",
            "_view_count": null,
            "_view_module": "@jupyter-widgets/controls",
            "_view_module_version": "1.5.0",
            "_view_name": "HTMLView",
            "description": "",
            "description_tooltip": null,
            "layout": "IPY_MODEL_ed93896858164dcc9722d958326c20ec",
            "placeholder": "​",
            "style": "IPY_MODEL_30a8e7a4853248b899310e4bc8c6b9e4",
            "value": "  0%"
          }
        },
        "30a8e7a4853248b899310e4bc8c6b9e4": {
          "model_module": "@jupyter-widgets/controls",
          "model_module_version": "1.5.0",
          "model_name": "DescriptionStyleModel",
          "state": {
            "_model_module": "@jupyter-widgets/controls",
            "_model_module_version": "1.5.0",
            "_model_name": "DescriptionStyleModel",
            "_view_count": null,
            "_view_module": "@jupyter-widgets/base",
            "_view_module_version": "1.2.0",
            "_view_name": "StyleView",
            "description_width": ""
          }
        },
        "51e88046bffd4991bc49472b6d2be364": {
          "model_module": "@jupyter-widgets/controls",
          "model_module_version": "1.5.0",
          "model_name": "HBoxModel",
          "state": {
            "_dom_classes": [],
            "_model_module": "@jupyter-widgets/controls",
            "_model_module_version": "1.5.0",
            "_model_name": "HBoxModel",
            "_view_count": null,
            "_view_module": "@jupyter-widgets/controls",
            "_view_module_version": "1.5.0",
            "_view_name": "HBoxView",
            "box_style": "",
            "children": [
              "IPY_MODEL_1d0651d7667a4f4fb3e68564b37c7c4d",
              "IPY_MODEL_70849d043e5f4f599da6b3284a71f7cd",
              "IPY_MODEL_64e2fc2e30c34d75937ccf07dac387c6"
            ],
            "layout": "IPY_MODEL_e5e8c3d6f5f04d318a32123ea1af5f23"
          }
        },
        "625a70ddebc949f48f4cbf39d3d1854d": {
          "model_module": "@jupyter-widgets/base",
          "model_module_version": "1.2.0",
          "model_name": "LayoutModel",
          "state": {
            "_model_module": "@jupyter-widgets/base",
            "_model_module_version": "1.2.0",
            "_model_name": "LayoutModel",
            "_view_count": null,
            "_view_module": "@jupyter-widgets/base",
            "_view_module_version": "1.2.0",
            "_view_name": "LayoutView",
            "align_content": null,
            "align_items": null,
            "align_self": null,
            "border": null,
            "bottom": null,
            "display": null,
            "flex": null,
            "flex_flow": null,
            "grid_area": null,
            "grid_auto_columns": null,
            "grid_auto_flow": null,
            "grid_auto_rows": null,
            "grid_column": null,
            "grid_gap": null,
            "grid_row": null,
            "grid_template_areas": null,
            "grid_template_columns": null,
            "grid_template_rows": null,
            "height": null,
            "justify_content": null,
            "justify_items": null,
            "left": null,
            "margin": null,
            "max_height": null,
            "max_width": null,
            "min_height": null,
            "min_width": null,
            "object_fit": null,
            "object_position": null,
            "order": null,
            "overflow": null,
            "overflow_x": null,
            "overflow_y": null,
            "padding": null,
            "right": null,
            "top": null,
            "visibility": null,
            "width": null
          }
        },
        "64e2fc2e30c34d75937ccf07dac387c6": {
          "model_module": "@jupyter-widgets/controls",
          "model_module_version": "1.5.0",
          "model_name": "HTMLModel",
          "state": {
            "_dom_classes": [],
            "_model_module": "@jupyter-widgets/controls",
            "_model_module_version": "1.5.0",
            "_model_name": "HTMLModel",
            "_view_count": null,
            "_view_module": "@jupyter-widgets/controls",
            "_view_module_version": "1.5.0",
            "_view_name": "HTMLView",
            "description": "",
            "description_tooltip": null,
            "layout": "IPY_MODEL_b0082fa528b74029acb46c59218a75f8",
            "placeholder": "​",
            "style": "IPY_MODEL_1125a3da10804dad96bc6594057f10f4",
            "value": " 0/1 [00:00&lt;?, ?it/s]"
          }
        },
        "70849d043e5f4f599da6b3284a71f7cd": {
          "model_module": "@jupyter-widgets/controls",
          "model_module_version": "1.5.0",
          "model_name": "FloatProgressModel",
          "state": {
            "_dom_classes": [],
            "_model_module": "@jupyter-widgets/controls",
            "_model_module_version": "1.5.0",
            "_model_name": "FloatProgressModel",
            "_view_count": null,
            "_view_module": "@jupyter-widgets/controls",
            "_view_module_version": "1.5.0",
            "_view_name": "ProgressView",
            "bar_style": "",
            "description": "",
            "description_tooltip": null,
            "layout": "IPY_MODEL_625a70ddebc949f48f4cbf39d3d1854d",
            "max": 1,
            "min": 0,
            "orientation": "horizontal",
            "style": "IPY_MODEL_857f70105af84aa48d77d85ccf234b31",
            "value": 0
          }
        },
        "857f70105af84aa48d77d85ccf234b31": {
          "model_module": "@jupyter-widgets/controls",
          "model_module_version": "1.5.0",
          "model_name": "ProgressStyleModel",
          "state": {
            "_model_module": "@jupyter-widgets/controls",
            "_model_module_version": "1.5.0",
            "_model_name": "ProgressStyleModel",
            "_view_count": null,
            "_view_module": "@jupyter-widgets/base",
            "_view_module_version": "1.2.0",
            "_view_name": "StyleView",
            "bar_color": null,
            "description_width": ""
          }
        },
        "b0082fa528b74029acb46c59218a75f8": {
          "model_module": "@jupyter-widgets/base",
          "model_module_version": "1.2.0",
          "model_name": "LayoutModel",
          "state": {
            "_model_module": "@jupyter-widgets/base",
            "_model_module_version": "1.2.0",
            "_model_name": "LayoutModel",
            "_view_count": null,
            "_view_module": "@jupyter-widgets/base",
            "_view_module_version": "1.2.0",
            "_view_name": "LayoutView",
            "align_content": null,
            "align_items": null,
            "align_self": null,
            "border": null,
            "bottom": null,
            "display": null,
            "flex": null,
            "flex_flow": null,
            "grid_area": null,
            "grid_auto_columns": null,
            "grid_auto_flow": null,
            "grid_auto_rows": null,
            "grid_column": null,
            "grid_gap": null,
            "grid_row": null,
            "grid_template_areas": null,
            "grid_template_columns": null,
            "grid_template_rows": null,
            "height": null,
            "justify_content": null,
            "justify_items": null,
            "left": null,
            "margin": null,
            "max_height": null,
            "max_width": null,
            "min_height": null,
            "min_width": null,
            "object_fit": null,
            "object_position": null,
            "order": null,
            "overflow": null,
            "overflow_x": null,
            "overflow_y": null,
            "padding": null,
            "right": null,
            "top": null,
            "visibility": null,
            "width": null
          }
        },
        "e5e8c3d6f5f04d318a32123ea1af5f23": {
          "model_module": "@jupyter-widgets/base",
          "model_module_version": "1.2.0",
          "model_name": "LayoutModel",
          "state": {
            "_model_module": "@jupyter-widgets/base",
            "_model_module_version": "1.2.0",
            "_model_name": "LayoutModel",
            "_view_count": null,
            "_view_module": "@jupyter-widgets/base",
            "_view_module_version": "1.2.0",
            "_view_name": "LayoutView",
            "align_content": null,
            "align_items": null,
            "align_self": null,
            "border": null,
            "bottom": null,
            "display": null,
            "flex": null,
            "flex_flow": null,
            "grid_area": null,
            "grid_auto_columns": null,
            "grid_auto_flow": null,
            "grid_auto_rows": null,
            "grid_column": null,
            "grid_gap": null,
            "grid_row": null,
            "grid_template_areas": null,
            "grid_template_columns": null,
            "grid_template_rows": null,
            "height": null,
            "justify_content": null,
            "justify_items": null,
            "left": null,
            "margin": null,
            "max_height": null,
            "max_width": null,
            "min_height": null,
            "min_width": null,
            "object_fit": null,
            "object_position": null,
            "order": null,
            "overflow": null,
            "overflow_x": null,
            "overflow_y": null,
            "padding": null,
            "right": null,
            "top": null,
            "visibility": null,
            "width": null
          }
        },
        "ed93896858164dcc9722d958326c20ec": {
          "model_module": "@jupyter-widgets/base",
          "model_module_version": "1.2.0",
          "model_name": "LayoutModel",
          "state": {
            "_model_module": "@jupyter-widgets/base",
            "_model_module_version": "1.2.0",
            "_model_name": "LayoutModel",
            "_view_count": null,
            "_view_module": "@jupyter-widgets/base",
            "_view_module_version": "1.2.0",
            "_view_name": "LayoutView",
            "align_content": null,
            "align_items": null,
            "align_self": null,
            "border": null,
            "bottom": null,
            "display": null,
            "flex": null,
            "flex_flow": null,
            "grid_area": null,
            "grid_auto_columns": null,
            "grid_auto_flow": null,
            "grid_auto_rows": null,
            "grid_column": null,
            "grid_gap": null,
            "grid_row": null,
            "grid_template_areas": null,
            "grid_template_columns": null,
            "grid_template_rows": null,
            "height": null,
            "justify_content": null,
            "justify_items": null,
            "left": null,
            "margin": null,
            "max_height": null,
            "max_width": null,
            "min_height": null,
            "min_width": null,
            "object_fit": null,
            "object_position": null,
            "order": null,
            "overflow": null,
            "overflow_x": null,
            "overflow_y": null,
            "padding": null,
            "right": null,
            "top": null,
            "visibility": null,
            "width": null
          }
        }
      }
    }
  },
  "nbformat": 4,
  "nbformat_minor": 0
}